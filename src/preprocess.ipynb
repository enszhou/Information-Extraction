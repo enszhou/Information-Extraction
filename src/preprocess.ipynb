{
 "cells": [
  {
   "cell_type": "code",
   "execution_count": 1,
   "metadata": {},
   "outputs": [],
   "source": [
    "import nltk\n",
    "import os\n",
    "import string"
   ]
  },
  {
   "cell_type": "code",
   "execution_count": 14,
   "metadata": {},
   "outputs": [],
   "source": [
    "relations = ['Cause-Effect', 'Component-Whole', 'Entity-Destination', 'Product-Producer', 'Entity-Origin',\n",
    "             'Member-Collection', 'Message-Topic', 'Content-Container', 'Instrument-Agency', 'Other']\n",
    "del_letters = string.punctuation\n",
    "del_tran_table = str.maketrans(del_letters, \" \" * len(del_letters))\n",
    "\n",
    "stopwords = set(nltk.corpus.stopwords.words(\"english\"))\n",
    "\n",
    "dataset_dir = os.path.join(\"..\", \"dataset\", \"\")\n",
    "train_path = os.path.join(dataset_dir, \"train.txt\")\n",
    "\n",
    "def tokenize(text):\n",
    "    sentence = text.translate(del_tran_table).lower()\n",
    "    tokens = nltk.tokenize.word_tokenize(sentence)\n",
    "    return tokens\n",
    "\n",
    "def filter_token(token):\n",
    "    return token not in stopwords\n",
    "\n",
    "\n",
    "texts = list()\n",
    "sentences = list()\n",
    "labels = list()\n",
    "with open(train_path) as fp:\n",
    "    while True:\n",
    "        line = fp.readline()\n",
    "        label = fp.readline()\n",
    "        if not line or not label:\n",
    "            break\n",
    "        text = line.split(\" \", 1)[1]\n",
    "        texts.append(text)\n",
    "        sentence = tokenize(text)\n",
    "#         sentence = list(filter(filter_token, sentence))\n",
    "#         sentence_pos = nltk.pos_tag(sentence)\n",
    "#         sentence_pos = list(filter(lambda x: x[1][0]=='N', sentence_pos))\n",
    "#         sentence = [x[0] for x in sentence_pos]\n",
    "        sentences.append(sentence)\n",
    "        labels.append(label)"
   ]
  },
  {
   "cell_type": "code",
   "execution_count": 17,
   "metadata": {},
   "outputs": [],
   "source": [
    "with open(os.path.join(dataset_dir,'text_train.txt'), 'w+') as fp:\n",
    "    for sentence in sentences:\n",
    "        fp.write(\" \".join(sentence) + '\\n')"
   ]
  },
  {
   "cell_type": "code",
   "execution_count": 51,
   "metadata": {},
   "outputs": [],
   "source": [
    "with open(os.path.join(dataset_dir,'label_train.txt'), 'w+') as fp:\n",
    "    for label in labels:\n",
    "        fp.write(label)"
   ]
  },
  {
   "cell_type": "code",
   "execution_count": 16,
   "metadata": {},
   "outputs": [
    {
     "data": {
      "text/plain": [
       "6394"
      ]
     },
     "execution_count": 16,
     "metadata": {},
     "output_type": "execute_result"
    }
   ],
   "source": [
    "import numpy as np\n",
    "lens = np.asarray(list(map(len, sentences)))\n",
    "(lens < 64).sum()"
   ]
  }
 ],
 "metadata": {
  "kernelspec": {
   "display_name": "Python 3",
   "language": "python",
   "name": "python3"
  },
  "language_info": {
   "codemirror_mode": {
    "name": "ipython",
    "version": 3
   },
   "file_extension": ".py",
   "mimetype": "text/x-python",
   "name": "python",
   "nbconvert_exporter": "python",
   "pygments_lexer": "ipython3",
   "version": "3.6.8"
  }
 },
 "nbformat": 4,
 "nbformat_minor": 4
}
