{
 "cells": [
  {
   "cell_type": "code",
   "execution_count": 1,
   "metadata": {
    "ExecuteTime": {
     "end_time": "2020-12-22T06:49:51.813101Z",
     "start_time": "2020-12-22T06:49:48.917514Z"
    }
   },
   "outputs": [],
   "source": [
    "import numpy as np\n",
    "import tensorflow as tf\n",
    "import tensorflow_hub as hub\n",
    "import tensorflow_text as text\n",
    "from tensorflow.keras import layers\n",
    "import os\n",
    "import matplotlib.pyplot as plt\n",
    "\n",
    "tf.get_logger().setLevel('ERROR')"
   ]
  },
  {
   "cell_type": "code",
   "execution_count": 2,
   "metadata": {
    "ExecuteTime": {
     "end_time": "2020-12-22T06:49:56.197295Z",
     "start_time": "2020-12-22T06:49:56.003691Z"
    }
   },
   "outputs": [],
   "source": [
    "relations = ['Cause-Effect', 'Component-Whole', 'Entity-Destination', 'Product-Producer', 'Entity-Origin',\n",
    "             'Member-Collection', 'Message-Topic', 'Content-Container', 'Instrument-Agency', 'Other']\n",
    "\n",
    "dataset_dir = os.path.join(\"..\", \"dataset\", \"\")\n",
    "train_path = os.path.join(dataset_dir, \"train.txt\")\n",
    "max_words = 10000\n",
    "\n",
    "texts = list()\n",
    "labels = list()\n",
    "with open(train_path) as fp:\n",
    "    while True:\n",
    "        line = fp.readline()\n",
    "        label = fp.readline()\n",
    "        if not line or not label:\n",
    "            break\n",
    "        texts.append(line.split(\" \", 1)[1])\n",
    "        labels.append(label.split('(')[0])\n",
    "\n",
    "X = tf.constant(texts)\n",
    "Y = list(map(relations.index, labels))\n",
    "Y = np.eye(len(relations))[Y]\n",
    "\n",
    "# X = X[0:100]\n",
    "# Y = Y[0:100]"
   ]
  },
  {
   "cell_type": "code",
   "execution_count": 6,
   "metadata": {},
   "outputs": [],
   "source": [
    "# text_inputs = tf.keras.layers.Input(shape=(), dtype=tf.string)\n",
    "# preprocessor = hub.KerasLayer(\"https://hub.tensorflow.google.cn/tensorflow/albert_en_preprocess/2\")\n",
    "# encoder_inputs = preprocessor(text_input)\n",
    "\n",
    "preprocessor = hub.load(\"https://hub.tensorflow.google.cn/tensorflow/albert_en_preprocess/2\")\n",
    "# Step 1: tokenize batches of text inputs.\n",
    "text_inputs = [tf.keras.layers.Input(shape=(), dtype=tf.string)] # This SavedModel accepts up to 2 text inputs.\n",
    "tokenize = hub.KerasLayer(preprocessor.tokenize)\n",
    "tokenized_inputs = [tokenize(segment) for segment in text_inputs]\n",
    "# Step 2 (optional): modify tokenized inputs.\n",
    "pass\n",
    "# Step 3: pack input sequences for the Transformer encoder.\n",
    "seq_length = 40  # Your choice here.\n",
    "bert_pack_inputs = hub.KerasLayer(preprocessor.bert_pack_inputs, arguments=dict(seq_length=seq_length))  # Optional argument.\n",
    "encoder_inputs = bert_pack_inputs(tokenized_inputs)\n",
    "\n",
    "encoder = hub.KerasLayer(\"https://hub.tensorflow.google.cn/tensorflow/albert_en_base/2\", trainable=False)\n",
    "outputs = encoder(encoder_inputs)\n",
    "pooled_output = outputs[\"pooled_output\"]      \n",
    "sequence_output = outputs[\"sequence_output\"]"
   ]
  },
  {
   "cell_type": "code",
   "execution_count": 8,
   "metadata": {},
   "outputs": [
    {
     "name": "stdout",
     "output_type": "stream",
     "text": [
      "Epoch 1/10\n",
      "180/180 [==============================] - 98s 407ms/step - loss: 1.9697 - accuracy: 0.3059 - val_loss: 1.2585 - val_accuracy: 0.5844\n",
      "Epoch 2/10\n",
      "180/180 [==============================] - 72s 402ms/step - loss: 1.1613 - accuracy: 0.6036 - val_loss: 1.0937 - val_accuracy: 0.6250\n",
      "Epoch 3/10\n",
      "180/180 [==============================] - 74s 411ms/step - loss: 0.8783 - accuracy: 0.6981 - val_loss: 0.9790 - val_accuracy: 0.6500\n",
      "Epoch 4/10\n",
      "180/180 [==============================] - 71s 395ms/step - loss: 0.6759 - accuracy: 0.7717 - val_loss: 0.9753 - val_accuracy: 0.6469\n",
      "Epoch 5/10\n",
      "180/180 [==============================] - 72s 403ms/step - loss: 0.5516 - accuracy: 0.8144 - val_loss: 0.9664 - val_accuracy: 0.6547\n",
      "Epoch 6/10\n",
      "180/180 [==============================] - 72s 403ms/step - loss: 0.4388 - accuracy: 0.8505 - val_loss: 0.9452 - val_accuracy: 0.6953\n",
      "Epoch 7/10\n",
      "180/180 [==============================] - 71s 393ms/step - loss: 0.3093 - accuracy: 0.9043 - val_loss: 0.9740 - val_accuracy: 0.6750\n",
      "Epoch 8/10\n",
      "180/180 [==============================] - 74s 411ms/step - loss: 0.2175 - accuracy: 0.9431 - val_loss: 1.0117 - val_accuracy: 0.6797\n",
      "Epoch 9/10\n",
      "180/180 [==============================] - 70s 391ms/step - loss: 0.1608 - accuracy: 0.9522 - val_loss: 1.0665 - val_accuracy: 0.6938\n",
      "Epoch 10/10\n",
      "180/180 [==============================] - 72s 401ms/step - loss: 0.1434 - accuracy: 0.9623 - val_loss: 1.0651 - val_accuracy: 0.7063\n"
     ]
    }
   ],
   "source": [
    "x = sequence_output\n",
    "# x = layers.Bidirectional(layers.LSTM(256, return_sequences=True, recurrent_dropout=0.2, dropout=0.2))(x)\n",
    "\n",
    "x = layers.Reshape((128, -1, 1))(x)\n",
    "\n",
    "x2 = layers.Conv2D(1, (2, x.shape[2]), activation='relu')(x)\n",
    "x3 = layers.Conv2D(1, (3, x.shape[2]), activation='relu')(x)\n",
    "x4 = layers.Conv2D(1, (4, x.shape[2]), activation='relu')(x)\n",
    "x5 = layers.Conv2D(1, (5, x.shape[2]), activation='relu')(x)\n",
    "x6 = layers.Conv2D(1, (6, x.shape[2]), activation='relu')(x)\n",
    "# x7 = layers.Conv2D(1, (7, x.shape[2]), activation='relu')(x)\n",
    "# x8 = layers.Conv2D(1, (8, x.shape[2]), activation='relu')(x)\n",
    "# x16 = layers.Conv2D(1, (16, x.shape[2]), activation='relu')(x)\n",
    "# x32 = layers.Conv2D(1, (32, x.shape[2]), activation='relu')(x)\n",
    "# x64 = layers.Conv2D(1, (64, x.shape[2]), activation='relu')(x)\n",
    "\n",
    "x2 = layers.MaxPooling2D(pool_size=(x2.shape[1], 1), padding='valid')(x2)\n",
    "x3 = layers.MaxPooling2D(pool_size=(x3.shape[1], 1), padding='valid')(x3)\n",
    "x4 = layers.MaxPooling2D(pool_size=(x4.shape[1], 1), padding='valid')(x4)\n",
    "x5 = layers.MaxPooling2D(pool_size=(x5.shape[1], 1), padding='valid')(x5)\n",
    "x6 = layers.MaxPooling2D(pool_size=(x6.shape[1], 1), padding='valid')(x6)\n",
    "# x7 = layers.MaxPooling2D(pool_size=(x7.shape[1], 1), padding='valid')(x7)\n",
    "# x8  = layers.MaxPooling2D(pool_size=(x8 .shape[1], 1), padding='valid')(x8 )\n",
    "# x16 = layers.MaxPooling2D(pool_size=(x16.shape[1], 1), padding='valid')(x16)\n",
    "# x32 = layers.MaxPooling2D(pool_size=(x32.shape[1], 1), padding='valid')(x32)\n",
    "# x64 = layers.MaxPooling2D(pool_size=(x64.shape[1], 1), padding='valid')(x64)\n",
    "\n",
    "x2 = layers.Reshape((-1,))(x2)\n",
    "x3 = layers.Reshape((-1,))(x3)\n",
    "x4 = layers.Reshape((-1,))(x4)\n",
    "x5 = layers.Reshape((-1,))(x5)\n",
    "x6 = layers.Reshape((-1,))(x6)\n",
    "# x7 = layers.Reshape((-1,))(x7)\n",
    "# x8  = layers.Reshape((-1,))(x8 )\n",
    "# x16 = layers.Reshape((-1,))(x16)\n",
    "# x32 = layers.Reshape((-1,))(x32)\n",
    "# x64 = layers.Reshape((-1,))(x64)\n",
    "\n",
    "# [x2, x3, x4, x5, x6, x7, x8, x16, x32, x64]\n",
    "x = layers.Concatenate(axis=1)([x2, x3, x4,  x5, x6])\n",
    "\n",
    "outputs = layers.Dense(len(relations), activation='softmax')(x)\n",
    "model = tf.keras.Model(inputs=text_inputs, outputs=outputs)\n",
    "model.compile(loss='categorical_crossentropy', optimizer='adam', metrics=['accuracy'])\n",
    "history = model.fit(X, Y, epochs=10, batch_size=32, validation_split=0.2)"
   ]
  },
  {
   "cell_type": "code",
   "execution_count": 5,
   "metadata": {},
   "outputs": [],
   "source": [
    "test_path = os.path.join(dataset_dir, \"test.txt\")\n",
    "\n",
    "test_texts = list()\n",
    "with open(test_path) as fp:\n",
    "    while True:\n",
    "        line = fp.readline()\n",
    "        if not line:\n",
    "            break\n",
    "        test_texts.append(line.split(\" \", 1)[1])\n",
    "        \n",
    "X_test = tf.constant(test_texts)\n",
    "\n",
    "preds = model.predict(X_test)\n",
    "preds = np.argmax(preds,axis=1)\n",
    "preds = list(map(lambda x:relations[x],preds))\n",
    "pred_path = os.path.join('..','output', \"prediction.txt\")\n",
    "with open(pred_path,'w+') as fp:\n",
    "    fp.write(\"\\n\".join(preds))"
   ]
  }
 ],
 "metadata": {
  "kernelspec": {
   "display_name": "Python 3",
   "language": "python",
   "name": "python3"
  },
  "language_info": {
   "codemirror_mode": {
    "name": "ipython",
    "version": 3
   },
   "file_extension": ".py",
   "mimetype": "text/x-python",
   "name": "python",
   "nbconvert_exporter": "python",
   "pygments_lexer": "ipython3",
   "version": "3.6.8"
  },
  "varInspector": {
   "cols": {
    "lenName": 16,
    "lenType": 16,
    "lenVar": 40
   },
   "kernels_config": {
    "python": {
     "delete_cmd_postfix": "",
     "delete_cmd_prefix": "del ",
     "library": "var_list.py",
     "varRefreshCmd": "print(var_dic_list())"
    },
    "r": {
     "delete_cmd_postfix": ") ",
     "delete_cmd_prefix": "rm(",
     "library": "var_list.r",
     "varRefreshCmd": "cat(var_dic_list()) "
    }
   },
   "position": {
    "height": "343.4px",
    "left": "1678px",
    "right": "20px",
    "top": "120px",
    "width": "350px"
   },
   "types_to_exclude": [
    "module",
    "function",
    "builtin_function_or_method",
    "instance",
    "_Feature"
   ],
   "window_display": true
  }
 },
 "nbformat": 4,
 "nbformat_minor": 4
}