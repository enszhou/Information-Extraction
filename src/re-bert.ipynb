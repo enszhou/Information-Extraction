{
 "cells": [
  {
   "cell_type": "code",
   "execution_count": 2,
   "metadata": {
    "ExecuteTime": {
     "end_time": "2020-12-22T06:49:51.813101Z",
     "start_time": "2020-12-22T06:49:48.917514Z"
    }
   },
   "outputs": [],
   "source": [
    "import numpy as np\n",
    "import tensorflow as tf\n",
    "import tensorflow_hub as hub\n",
    "import tensorflow_text as text\n",
    "from tensorflow.keras import layers\n",
    "import os\n",
    "import matplotlib.pyplot as plt\n",
    "\n",
    "tf.get_logger().setLevel('ERROR')"
   ]
  },
  {
   "cell_type": "code",
   "execution_count": 3,
   "metadata": {
    "ExecuteTime": {
     "end_time": "2020-12-22T06:49:56.197295Z",
     "start_time": "2020-12-22T06:49:56.003691Z"
    }
   },
   "outputs": [],
   "source": [
    "relations = ['Cause-Effect', 'Component-Whole', 'Entity-Destination', 'Product-Producer', 'Entity-Origin',\n",
    "             'Member-Collection', 'Message-Topic', 'Content-Container', 'Instrument-Agency', 'Other']\n",
    "\n",
    "dataset_dir = os.path.join(\"..\", \"dataset\", \"\")\n",
    "train_path = os.path.join(dataset_dir, \"train.txt\")\n",
    "max_words = 10000\n",
    "\n",
    "texts = list()\n",
    "labels = list()\n",
    "with open(train_path) as fp:\n",
    "    while True:\n",
    "        line = fp.readline()\n",
    "        label = fp.readline()\n",
    "        if not line or not label:\n",
    "            break\n",
    "        texts.append(line.split(\" \", 1)[1])\n",
    "        labels.append(label.split('(')[0])\n",
    "\n",
    "X = tf.constant(texts)\n",
    "Y = list(map(relations.index, labels))\n",
    "Y = np.eye(len(relations))[Y]"
   ]
  },
  {
   "cell_type": "code",
   "execution_count": 8,
   "metadata": {},
   "outputs": [],
   "source": [
    "text_input = tf.keras.layers.Input(shape=(), dtype=tf.string)\n",
    "preprocessor = hub.KerasLayer(\"https://hub.tensorflow.google.cn/tensorflow/albert_en_preprocess/2\")\n",
    "encoder_inputs = preprocessor(text_input)\n",
    "encoder = hub.KerasLayer(\"https://hub.tensorflow.google.cn/tensorflow/albert_en_base/2\", trainable=False)\n",
    "outputs = encoder(encoder_inputs)\n",
    "pooled_output = outputs[\"pooled_output\"]      \n",
    "sequence_output = outputs[\"sequence_output\"]\n",
    "x = layers.Bidirectional(layers.LSTM(128, recurrent_dropout=0.2, dropout=0.2))(sequence_output)\n",
    "outputs = layers.Dense(len(relations), activation='softmax')(x)"
   ]
  },
  {
   "cell_type": "code",
   "execution_count": 9,
   "metadata": {},
   "outputs": [],
   "source": [
    "model = tf.keras.Model(inputs=text_input, outputs=outputs)\n",
    "model.compile(loss='categorical_crossentropy',\n",
    "              optimizer='adam', metrics=['accuracy'])"
   ]
  },
  {
   "cell_type": "code",
   "execution_count": 10,
   "metadata": {},
   "outputs": [
    {
     "name": "stdout",
     "output_type": "stream",
     "text": [
      "Epoch 1/10\n",
      "150/150 [==============================] - 194s 1s/step - loss: 1.9290 - accuracy: 0.3369 - val_loss: 1.3348 - val_accuracy: 0.5362\n",
      "Epoch 2/10\n",
      "150/150 [==============================] - 181s 1s/step - loss: 1.1170 - accuracy: 0.6227 - val_loss: 1.1404 - val_accuracy: 0.6131\n",
      "Epoch 3/10\n",
      "150/150 [==============================] - 178s 1s/step - loss: 0.8203 - accuracy: 0.7260 - val_loss: 1.0104 - val_accuracy: 0.6425\n",
      "Epoch 4/10\n",
      "150/150 [==============================] - 168s 1s/step - loss: 0.6443 - accuracy: 0.7808 - val_loss: 0.9461 - val_accuracy: 0.6619\n",
      "Epoch 5/10\n",
      "150/150 [==============================] - 174s 1s/step - loss: 0.5292 - accuracy: 0.8243 - val_loss: 0.9409 - val_accuracy: 0.6800\n",
      "Epoch 6/10\n",
      "150/150 [==============================] - 180s 1s/step - loss: 0.4257 - accuracy: 0.8619 - val_loss: 0.9742 - val_accuracy: 0.6844\n",
      "Epoch 7/10\n",
      "150/150 [==============================] - 180s 1s/step - loss: 0.3454 - accuracy: 0.8892 - val_loss: 0.9212 - val_accuracy: 0.7000\n",
      "Epoch 8/10\n",
      "150/150 [==============================] - 177s 1s/step - loss: 0.2543 - accuracy: 0.9309 - val_loss: 0.9743 - val_accuracy: 0.6975\n",
      "Epoch 9/10\n",
      "150/150 [==============================] - 175s 1s/step - loss: 0.1872 - accuracy: 0.9489 - val_loss: 0.9998 - val_accuracy: 0.6831\n",
      "Epoch 10/10\n",
      "150/150 [==============================] - 179s 1s/step - loss: 0.1616 - accuracy: 0.9613 - val_loss: 1.0214 - val_accuracy: 0.6988\n"
     ]
    },
    {
     "data": {
      "text/plain": [
       "<tensorflow.python.keras.callbacks.History at 0x7f79c4df85f8>"
      ]
     },
     "execution_count": 10,
     "metadata": {},
     "output_type": "execute_result"
    }
   ],
   "source": [
    "history = model.fit(X, Y, epochs=10, batch_size=32, validation_split=0.25)"
   ]
  },
  {
   "cell_type": "code",
   "execution_count": 11,
   "metadata": {},
   "outputs": [],
   "source": [
    "test_path = os.path.join(dataset_dir, \"test.txt\")\n",
    "\n",
    "test_texts = list()\n",
    "with open(test_path) as fp:\n",
    "    while True:\n",
    "        line = fp.readline()\n",
    "        if not line:\n",
    "            break\n",
    "        test_texts.append(line.split(\" \", 1)[1])\n",
    "        \n",
    "X_test = tf.constant(test_texts)\n",
    "\n",
    "preds = model.predict(X_test)\n",
    "preds = np.argmax(preds,axis=1)\n",
    "preds = list(map(lambda x:relations[x],preds))\n",
    "pred_path = os.path.join('..','output', \"prediction.txt\")\n",
    "with open(pred_path,'w+') as fp:\n",
    "    fp.write(\"\\n\".join(preds))"
   ]
  }
 ],
 "metadata": {
  "kernelspec": {
   "display_name": "Python 3",
   "language": "python",
   "name": "python3"
  },
  "language_info": {
   "codemirror_mode": {
    "name": "ipython",
    "version": 3
   },
   "file_extension": ".py",
   "mimetype": "text/x-python",
   "name": "python",
   "nbconvert_exporter": "python",
   "pygments_lexer": "ipython3",
   "version": "3.6.8"
  },
  "varInspector": {
   "cols": {
    "lenName": 16,
    "lenType": 16,
    "lenVar": 40
   },
   "kernels_config": {
    "python": {
     "delete_cmd_postfix": "",
     "delete_cmd_prefix": "del ",
     "library": "var_list.py",
     "varRefreshCmd": "print(var_dic_list())"
    },
    "r": {
     "delete_cmd_postfix": ") ",
     "delete_cmd_prefix": "rm(",
     "library": "var_list.r",
     "varRefreshCmd": "cat(var_dic_list()) "
    }
   },
   "position": {
    "height": "343.4px",
    "left": "1678px",
    "right": "20px",
    "top": "120px",
    "width": "350px"
   },
   "types_to_exclude": [
    "module",
    "function",
    "builtin_function_or_method",
    "instance",
    "_Feature"
   ],
   "window_display": true
  }
 },
 "nbformat": 4,
 "nbformat_minor": 4
}
